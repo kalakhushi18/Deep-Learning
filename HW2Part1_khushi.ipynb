{
  "nbformat": 4,
  "nbformat_minor": 0,
  "metadata": {
    "colab": {
      "provenance": [],
      "gpuType": "T4",
      "include_colab_link": true
    },
    "kernelspec": {
      "name": "python3",
      "display_name": "Python 3"
    },
    "language_info": {
      "name": "python"
    },
    "accelerator": "GPU"
  },
  "cells": [
    {
      "cell_type": "markdown",
      "metadata": {
        "id": "view-in-github",
        "colab_type": "text"
      },
      "source": [
        "<a href=\"https://colab.research.google.com/github/kalakhushi18/Deep-Learning/blob/main/HW2Part1_khushi.ipynb\" target=\"_parent\"><img src=\"https://colab.research.google.com/assets/colab-badge.svg\" alt=\"Open In Colab\"/></a>"
      ]
    },
    {
      "cell_type": "markdown",
      "source": [
        "# HW2 Part 1\n",
        "\n",
        "Due Date: 12.01.2025\n",
        "\n",
        "Total Points: 25\n",
        "\n",
        "The Transformer Architecture is today **the** dominating architecture for State-of-the-Art Machine Learning"
      ],
      "metadata": {
        "id": "pxmK_O-3KmlA"
      }
    },
    {
      "cell_type": "markdown",
      "source": [
        "In this homework we will understand and you will the first parts of the architecture"
      ],
      "metadata": {
        "id": "4wckRpY4K9or"
      }
    },
    {
      "cell_type": "code",
      "execution_count": null,
      "metadata": {
        "colab": {
          "base_uri": "https://localhost:8080/"
        },
        "id": "HE3ArVBbKYoU",
        "outputId": "1f9ff339-3740-4c3d-f8d7-94268a7b51f1"
      },
      "outputs": [
        {
          "output_type": "stream",
          "name": "stdout",
          "text": [
            "Device: cuda:0\n"
          ]
        },
        {
          "output_type": "execute_result",
          "data": {
            "text/plain": [
              "<torch._C.Generator at 0x7e8670c61370>"
            ]
          },
          "metadata": {},
          "execution_count": 1
        }
      ],
      "source": [
        "import torch\n",
        "import torch.nn as nn\n",
        "\n",
        "device = torch.device(\"cuda:0\") if torch.cuda.is_available() else torch.device(\"cpu\")\n",
        "print(\"Device:\", device)\n",
        "torch.manual_seed(707)"
      ]
    },
    {
      "cell_type": "markdown",
      "source": [
        "## The famous Transformer architecture"
      ],
      "metadata": {
        "id": "xajhaWWs_UDJ"
      }
    },
    {
      "cell_type": "markdown",
      "source": [
        "<img src= \"https://drive.google.com/uc?id=1zEGMTmMqzwn25WXJHkf-jJ_C4A89fz6T\" height= \"500\">"
      ],
      "metadata": {
        "id": "QlBfOsleagoA"
      }
    },
    {
      "cell_type": "markdown",
      "source": [
        "As we can see the whole transformer architecture consists of several block which we have to build and then assemble correctly. Luckily some blocks appear quite often and larger ensembles are then repeated N times. So that will save us a lot of work. Also FeedForward, Add&Norm, Linear and Softmax blocks are already known to us."
      ],
      "metadata": {
        "id": "6ST9xDAr_a5u"
      }
    },
    {
      "cell_type": "markdown",
      "source": [
        "## Attention"
      ],
      "metadata": {
        "id": "9d6iTss8Kmrd"
      }
    },
    {
      "cell_type": "markdown",
      "source": [
        "The main part of the transformer architecture is the attention mechanism. The name makes the concept kind of self-explanatory, the art is to implement it in math and following that in code.\n",
        "\n",
        "A bit on the history of the attention mechanism: It was first introduced in RNNs for language translation to give the model the ability to give focus(attention) on the time step outputs of the RNN corresponding to each input word. Therefor a mechanism was needed to go over a sequence of vetors(activations) of variable length and amass it to one single vector which then could be used then for prediction. (Later when we introduce multi-head attention it is not a single vector but multiple)."
      ],
      "metadata": {
        "id": "IjImv2o4MBXq"
      }
    },
    {
      "cell_type": "markdown",
      "source": [
        "Okay that was quite a wording so let's see how it works with a simple example"
      ],
      "metadata": {
        "id": "nYEmFG3ts8wL"
      }
    },
    {
      "cell_type": "code",
      "source": [
        "# Let's say we have three vector (three for simplicity)\n",
        "# every vector has a dimensionality of 5 (I picked this for simplicity for the real transformer it is much higher )\n",
        "embed_dim = 5\n",
        "a = torch.rand((1,embed_dim))\n",
        "b = torch.rand((1,embed_dim))\n",
        "c = torch.rand((1,embed_dim))"
      ],
      "metadata": {
        "id": "2aL6H60XN0Ve"
      },
      "execution_count": null,
      "outputs": []
    },
    {
      "cell_type": "code",
      "source": [
        "#Let's print vector a\n",
        "a"
      ],
      "metadata": {
        "colab": {
          "base_uri": "https://localhost:8080/"
        },
        "id": "FeMXtVuYOiMN",
        "outputId": "563e3ce5-664e-450f-c4c7-93d71832f86e"
      },
      "execution_count": null,
      "outputs": [
        {
          "output_type": "execute_result",
          "data": {
            "text/plain": [
              "tensor([[0.3238, 0.5000, 0.2395, 0.9894, 0.5413]])"
            ]
          },
          "metadata": {},
          "execution_count": 3
        }
      ]
    },
    {
      "cell_type": "markdown",
      "source": [
        "We assume now that a, b and c are vector representations of words. And we want now to know how to combine these three vectors in a single vector which still has the size of (1, embed_dim) in this case (1,5)\n",
        "\n",
        "The simplest way is to take an average over the (three) vectors. However, instead of weighting each vector equally, we want to weight them depending on their actual importance for our Machine Learning objective (e.g. translation). In other words, we want to dynamically decide on which inputs we want to pay more attention than to others.\n",
        "\n",
        "$$\n",
        "output \\ vector = \\alpha_1 × \\vec{a} + \\alpha_2 × \\vec{b} +  \\alpha_3 × \\vec{c}\n",
        "$$\n",
        "\n",
        "The sum of the $α_s$ is one. If vector b is the most important one we could have a distribution of $α$ values like the following\n",
        "\n",
        "$$\n",
        "\\alpha_1 = 0.05\n",
        "$$\n",
        "$$\n",
        "\\alpha_2 = 0.94\n",
        "$$\n",
        "$$\n",
        "\\alpha_3 = 0.01\n",
        "$$\n",
        "\n",
        "Hence we get an output vector which is the weighted sum of the three vectors but the most contribution comes from b so we can say the output vector paid mostly attention to vector b\n",
        "\n",
        "\n"
      ],
      "metadata": {
        "id": "hpNR4B_4Oqt3"
      }
    },
    {
      "cell_type": "code",
      "source": [
        "alpha_1, alpha_2, alpha_3 = 0.05, 0.94, 0.01\n",
        "\n",
        "output = alpha_1 * a + alpha_2 * b + alpha_3 * c\n",
        "output"
      ],
      "metadata": {
        "colab": {
          "base_uri": "https://localhost:8080/"
        },
        "id": "aw1M0ftTOlYb",
        "outputId": "4f011597-4ff7-4910-c18e-71a810fd3783"
      },
      "execution_count": null,
      "outputs": [
        {
          "output_type": "execute_result",
          "data": {
            "text/plain": [
              "tensor([[0.8115, 0.5399, 0.4092, 0.1301, 0.2400]])"
            ]
          },
          "metadata": {},
          "execution_count": 4
        }
      ]
    },
    {
      "cell_type": "code",
      "source": [
        "print(f\"output: {output.tolist()}\")\n",
        "print(f\"b     : {b.tolist()}\")"
      ],
      "metadata": {
        "colab": {
          "base_uri": "https://localhost:8080/"
        },
        "id": "4f65wnw7R6H7",
        "outputId": "26b274cb-0cbc-4216-9a1e-979279f4fb1c"
      },
      "execution_count": null,
      "outputs": [
        {
          "output_type": "stream",
          "name": "stdout",
          "text": [
            "output: [[0.8114653825759888, 0.5399146676063538, 0.40915048122406006, 0.1300857961177826, 0.2399982064962387]]\n",
            "b     : [[0.8397395610809326, 0.5407127737998962, 0.41477662324905396, 0.07540476322174072, 0.2198513150215149]]\n"
          ]
        }
      ]
    },
    {
      "cell_type": "markdown",
      "source": [
        "As we can see the output is mostly similiar to b. But there could be other cases where the attention should be only on a or divided between b and c.\n",
        "\n",
        "So we need a way to compute the $α_s$ dynamically.\n",
        "\n",
        "\n",
        "\n",
        "***Therefore three parts are needed***:\n",
        "\n",
        "**Query**: The query is what we are looking for in the sequence. We can think of it like a question where the content of the question decides on what we want to pay attention to. The query is also represented as a mathematical vector.\n",
        "\n",
        "**Keys**: For each element in the sequence, we have a key which is again a feature vector. This feature vector roughly describes what the element is \"offering\", or when if it might be important to this specific query(question). One can also think of them as the answers offered to the queries.\n",
        "\n",
        "**Values**: For each input element, we also have a value vector. We already know about this because a,b,c from above are value vectors. These are the feature vectors on which we want to compute a dynamic average.\n",
        "\n",
        "So the value vectors we have already and we will also see shortly how to compute the query and key vectors. The only remaining question is how to compute the $α_s$ from the query vector and the key vectors. Therefor we need a score function:\n",
        "\n",
        "**Score function**: The score function takes the query and a key as input, and outputs the score(attention weight) of the query-key pair. Because the query and the key are just two normal vectors usually the dot product is computed between them to see how similiar they are. This is also done in the transformer but there are also other possibilities like a small MLP since we only need a function which maps two input vectors to a single scalar as the output."
      ],
      "metadata": {
        "id": "MkrayXIgSh2B"
      }
    },
    {
      "cell_type": "markdown",
      "source": [
        "So for the first part of the attention mechanism we need to compute the the dot product of a query vector with a key vector"
      ],
      "metadata": {
        "id": "Ihyb8SxzTD2B"
      }
    },
    {
      "cell_type": "markdown",
      "source": [
        "Task 1 (5 points)"
      ],
      "metadata": {
        "id": "HGIzwCqFZrl7"
      }
    },
    {
      "cell_type": "code",
      "source": [
        "# task 1\n",
        "a_key = torch.rand((1, embed_dim))\n",
        "b_key = torch.rand((1, embed_dim))\n",
        "c_key = torch.rand((1, embed_dim))\n",
        "\n",
        "a_query = torch.rand((1, embed_dim))\n",
        "\n",
        "\n",
        "### YOUR CODE COMES HERE ###\n",
        "# Implement the dot product between a_query and a_key\n",
        "score_a_a = torch.matmul(a_query, a_key.T)\n",
        "\n",
        "# # Now also for the other two combination: a_query and b_key, a_query and c_key\n",
        "score_a_b = torch.matmul(a_query, b_key.T)\n",
        "score_a_c = torch.matmul(a_query, c_key.T)\n",
        "\n",
        "print(score_a_a)\n",
        "print(score_a_b)\n",
        "print(score_a_c)\n",
        "### YOUR CODE ENDS HERE ###"
      ],
      "metadata": {
        "colab": {
          "base_uri": "https://localhost:8080/"
        },
        "id": "BqPxGvdXSKYL",
        "outputId": "e5d77718-964d-41c6-bfe1-532da2e4d77c"
      },
      "execution_count": null,
      "outputs": [
        {
          "output_type": "stream",
          "name": "stdout",
          "text": [
            "tensor([[0.9752]])\n",
            "tensor([[1.0290]])\n",
            "tensor([[0.7270]])\n"
          ]
        }
      ]
    },
    {
      "cell_type": "markdown",
      "source": [
        "Example how the output should look like:\n",
        "\n",
        "tensor([[0.9752]])\n",
        "\n",
        "tensor([[1.0290]])\n",
        "\n",
        "tensor([[0.7270]])\n"
      ],
      "metadata": {
        "id": "dxL24P6rY6E1"
      }
    },
    {
      "cell_type": "markdown",
      "source": [
        "So we have our scores now but the do not add up to one as we need them to become our α values. So what do we do? We take advantage of an old friend - the softmax function - and force them to sum to one. Wow, see like even the top researchers take often simple decisions which you already have learned about"
      ],
      "metadata": {
        "id": "EWMJnUhoZFPu"
      }
    },
    {
      "cell_type": "markdown",
      "source": [
        "Task 2 ( 5 points)"
      ],
      "metadata": {
        "id": "sBRABkHvZ-rE"
      }
    },
    {
      "cell_type": "code",
      "source": [
        "# task 2\n",
        "### YOUR CODE COMES HERE ###\n",
        "## Implement a softmax over the scores\n",
        "scores = torch.cat([score_a_a, score_a_b, score_a_c], dim=1)\n",
        "\n",
        "softmax_scores = torch.nn.functional.softmax(scores, dim=1)\n",
        "\n",
        "alpha_a_1, alpha_a_2, alpha_a_3 = softmax_scores[0, 0], softmax_scores[0, 1], softmax_scores[0, 2]\n",
        "\n",
        "alpha_a_1.item(), alpha_a_2.item(), alpha_a_3.item()\n",
        "### YOUR CODE ENDS HERE ###"
      ],
      "metadata": {
        "id": "bt9YM-jfZgbK",
        "colab": {
          "base_uri": "https://localhost:8080/"
        },
        "outputId": "c456898e-d4aa-4897-a659-66156c1ecf63"
      },
      "execution_count": null,
      "outputs": [
        {
          "output_type": "execute_result",
          "data": {
            "text/plain": [
              "(0.35268086194992065, 0.3721560835838318, 0.27516305446624756)"
            ]
          },
          "metadata": {},
          "execution_count": 7
        }
      ]
    },
    {
      "cell_type": "code",
      "source": [
        "alpha_a_1+ alpha_a_2 + alpha_a_3"
      ],
      "metadata": {
        "colab": {
          "base_uri": "https://localhost:8080/"
        },
        "id": "btIaSdfamhIS",
        "outputId": "f3e7d901-53fb-462e-b615-c5979a7d0a4e"
      },
      "execution_count": null,
      "outputs": [
        {
          "output_type": "execute_result",
          "data": {
            "text/plain": [
              "tensor(1.)"
            ]
          },
          "metadata": {},
          "execution_count": 8
        }
      ]
    },
    {
      "cell_type": "markdown",
      "source": [
        "Your results should look like this:\n",
        "\n",
        "(0.35268089175224304, 0.3721560835838318, 0.27516305446624756)\n",
        "\n",
        "As you see they now sum up to one"
      ],
      "metadata": {
        "id": "i3wbMLrZafxp"
      }
    },
    {
      "cell_type": "code",
      "source": [
        "# We can now again compute the output as at the beginning of the notebook\n",
        "# But now we have not set the alphas manually but rather computed them\n",
        "\n",
        "output_a = alpha_a_1 * a_key + alpha_a_2 * b_key + alpha_a_3 * c_key\n",
        "\n",
        "print(output_a)"
      ],
      "metadata": {
        "id": "1wGY3rE1aSO1",
        "colab": {
          "base_uri": "https://localhost:8080/"
        },
        "outputId": "0e2c58f6-31b0-41e5-e6a9-56bbe76053a3"
      },
      "execution_count": null,
      "outputs": [
        {
          "output_type": "stream",
          "name": "stdout",
          "text": [
            "tensor([[0.4020, 0.5972, 0.4534, 0.5340, 0.5317]])\n"
          ]
        }
      ]
    },
    {
      "cell_type": "markdown",
      "source": [
        "Task 3 (5 points)"
      ],
      "metadata": {
        "id": "UHqCypM-aTBJ"
      }
    },
    {
      "cell_type": "code",
      "source": [
        "# Now there is not only a query_a, but also query_b and query_c\n",
        "b_query = torch.rand((1, embed_dim))\n",
        "c_query = torch.rand((1, embed_dim))\n",
        "\n",
        "# Also create the corresponding attention weights for it and assemble them into a matrix\n",
        "\n",
        "score_b_a = torch.matmul(b_query, a_key.T)\n",
        "score_b_b = torch.matmul(b_query, b_key.T)\n",
        "score_b_c = torch.matmul(b_query, c_key.T)\n",
        "\n",
        "scores_b = torch.cat([score_b_a, score_b_b, score_b_c], dim=1)\n",
        "\n",
        "softmax_scores_b = torch.nn.functional.softmax(scores_b, dim=1)\n",
        "\n",
        "alpha_b_1, alpha_b_2, alpha_b_3 = softmax_scores_b[0, 0], softmax_scores_b[0, 1], softmax_scores_b[0, 2]\n",
        "\n",
        "alpha_b_1.item(), alpha_b_2.item(), alpha_b_3.item()"
      ],
      "metadata": {
        "id": "uMuqvq0p5Z0A",
        "colab": {
          "base_uri": "https://localhost:8080/"
        },
        "outputId": "5a66adef-20e2-43e4-ff33-37ec20829c4e"
      },
      "execution_count": null,
      "outputs": [
        {
          "output_type": "execute_result",
          "data": {
            "text/plain": [
              "(0.28099822998046875, 0.5144877433776855, 0.20451399683952332)"
            ]
          },
          "metadata": {},
          "execution_count": 10
        }
      ]
    },
    {
      "cell_type": "code",
      "source": [
        "score_c_a = torch.matmul(c_query, a_key.T)\n",
        "score_c_b = torch.matmul(c_query, b_key.T)\n",
        "score_c_c = torch.matmul(c_query, c_key.T)\n",
        "\n",
        "scores_c = torch.cat([score_c_a, score_c_b, score_c_c], dim=1)\n",
        "\n",
        "softmax_scores_c = torch.nn.functional.softmax(scores_c, dim=1)\n",
        "\n",
        "alpha_c_1, alpha_c_2, alpha_c_3 = softmax_scores_c[0, 0], softmax_scores_c[0, 1], softmax_scores_c[0, 2]\n",
        "\n",
        "alpha_c_1.item(), alpha_c_2.item(), alpha_c_3.item()"
      ],
      "metadata": {
        "colab": {
          "base_uri": "https://localhost:8080/"
        },
        "id": "kdm0fLSKp1qV",
        "outputId": "e71d171b-48d8-4137-c20c-95d1a0756627"
      },
      "execution_count": null,
      "outputs": [
        {
          "output_type": "execute_result",
          "data": {
            "text/plain": [
              "(0.3212473690509796, 0.4460607171058655, 0.2326919436454773)"
            ]
          },
          "metadata": {},
          "execution_count": 11
        }
      ]
    },
    {
      "cell_type": "code",
      "source": [
        "Q = torch.cat([a_query, b_query, c_query], dim= 0)\n",
        "K = torch.cat ([a_key, b_key, c_key], dim = 0)\n",
        "\n",
        "print(\"Shape of the Query matrix\", Q.shape)\n",
        "print(\"Shape of the Keys matrix\", K.shape)"
      ],
      "metadata": {
        "colab": {
          "base_uri": "https://localhost:8080/"
        },
        "id": "MRA4cScBpX64",
        "outputId": "fc428734-268a-4a15-f6d4-05f7030f0c92"
      },
      "execution_count": null,
      "outputs": [
        {
          "output_type": "stream",
          "name": "stdout",
          "text": [
            "Shape of the Query matrix torch.Size([3, 5])\n",
            "Shape of the Keys matrix torch.Size([3, 5])\n"
          ]
        }
      ]
    },
    {
      "cell_type": "code",
      "source": [
        "# if this code block throws an error you have wrong sizes for your matrices\n",
        "assert Q.shape == torch.Size([3, 5])\n",
        "assert K.shape == torch.Size([3, 5])"
      ],
      "metadata": {
        "id": "ItOu1xnqUDDl"
      },
      "execution_count": null,
      "outputs": []
    },
    {
      "cell_type": "code",
      "source": [
        "# Compute the matrix dot product\n",
        "scores = torch.matmul(Q, K.T)\n",
        "print(\"Scores of the Main Q and K matrices\\n\", scores)"
      ],
      "metadata": {
        "id": "Af6gPqBtUS6d",
        "colab": {
          "base_uri": "https://localhost:8080/"
        },
        "outputId": "0e7d2c99-3da4-4052-d279-549ccaea4705"
      },
      "execution_count": null,
      "outputs": [
        {
          "output_type": "stream",
          "name": "stdout",
          "text": [
            "Scores of the Main Q and K matrices\n",
            " tensor([[0.9752, 1.0290, 0.7270],\n",
            "        [1.0412, 1.6460, 0.7235],\n",
            "        [1.0014, 1.3296, 0.6789]])\n"
          ]
        }
      ]
    },
    {
      "cell_type": "code",
      "source": [
        "assert scores.shape == torch.Size([3, 3])"
      ],
      "metadata": {
        "id": "wEbxS1GQUT-p"
      },
      "execution_count": null,
      "outputs": []
    },
    {
      "cell_type": "code",
      "source": [
        "scores[0,:] #This is exactly the same scores as for our single scores computed for element a at the top of the notebook"
      ],
      "metadata": {
        "colab": {
          "base_uri": "https://localhost:8080/"
        },
        "id": "rmFT69CpVLFG",
        "outputId": "a40c02ce-43a3-45c5-bb61-52e3ec42ff37"
      },
      "execution_count": null,
      "outputs": [
        {
          "output_type": "execute_result",
          "data": {
            "text/plain": [
              "tensor([0.9752, 1.0290, 0.7270])"
            ]
          },
          "metadata": {},
          "execution_count": 17
        }
      ]
    },
    {
      "cell_type": "code",
      "source": [
        "alphas = torch.nn.functional.softmax(scores, dim=1)"
      ],
      "metadata": {
        "id": "xbfGWnRuU3Dd"
      },
      "execution_count": null,
      "outputs": []
    },
    {
      "cell_type": "code",
      "source": [
        "print(alphas)\n",
        "# These alphas are also similar to one calculated individually"
      ],
      "metadata": {
        "colab": {
          "base_uri": "https://localhost:8080/"
        },
        "id": "6JeHK9BGVbwV",
        "outputId": "e4afe6bc-10d5-4bb3-8d8b-4ce8d9b66a3c"
      },
      "execution_count": null,
      "outputs": [
        {
          "output_type": "stream",
          "name": "stdout",
          "text": [
            "tensor([[0.3527, 0.3722, 0.2752],\n",
            "        [0.2810, 0.5145, 0.2045],\n",
            "        [0.3212, 0.4461, 0.2327]])\n"
          ]
        }
      ]
    },
    {
      "cell_type": "code",
      "source": [
        "# Now we just have to assemble our values in a matrix and the we can apply our dynamic weighting\n",
        "V = torch.cat((a,b,c), dim=0)\n",
        "\n",
        "output = alphas @ V"
      ],
      "metadata": {
        "id": "mQ72Did8VdI2"
      },
      "execution_count": null,
      "outputs": []
    },
    {
      "cell_type": "code",
      "source": [
        "print(output)"
      ],
      "metadata": {
        "colab": {
          "base_uri": "https://localhost:8080/"
        },
        "id": "MkVNmJT0WEW1",
        "outputId": "c23184e8-fc40-402f-ff1b-5bb1750b03df"
      },
      "execution_count": null,
      "outputs": [
        {
          "output_type": "stream",
          "name": "stdout",
          "text": [
            "tensor([[0.5896, 0.5604, 0.4393, 0.6449, 0.4453],\n",
            "        [0.6441, 0.5546, 0.4297, 0.5159, 0.3935],\n",
            "        [0.6164, 0.5564, 0.4315, 0.5780, 0.4179]])\n"
          ]
        }
      ]
    },
    {
      "cell_type": "markdown",
      "source": [
        "Here the first row is our attention updated a vector, the second row is for the updated b vector and the third for the updated c vector. In general this mechanism work for arbitrary vector size and much more vectors than three. For example current architecture (April 2023) work on sequences of 2048 or 4096 embedded vectors which is also called the context window. The only restriction is the keys and the queries must share the same dimesions and the amount of single elements of queries, keys and values must be the same."
      ],
      "metadata": {
        "id": "dzGV9kV6WKa4"
      }
    },
    {
      "cell_type": "markdown",
      "source": [
        "The complete attention mechanism could be summarized in the following formula which we basically implemented until this code cell in the notebook\n",
        "\n",
        "$$\n",
        "Attention(Q,K,V) = softmax(\\frac{Q K^T}{\\sqrt{d_k}})V\n",
        "$$\n",
        "\n",
        "One aspect we haven't implemented yet is the scaling factor of $\\sqrt{d_k}$\n",
        ". This scaling factor is crucial to maintain an appropriate variance of attention values after initialization. Remember that we intialize our layers with the intention of having equal variance throughout the model, and hence, Q and K also have a variance close to the other model layers. However, performing a dot product over two vectors with a variance 1 results in a scalar having\n",
        "$d_k$-times higher variance.\n",
        "If we do not scale down the variance back the softmax over the logits will already saturate for one random element and to 0 for all others. The gradients through the softmax will be close to zero so that the parameters can't be learned appropriately. This prevents extreme values in the softmax function and allows for stable gradients during training."
      ],
      "metadata": {
        "id": "EV1BtcdLXHli"
      }
    },
    {
      "cell_type": "markdown",
      "source": [
        "Task 4 (10 points)"
      ],
      "metadata": {
        "id": "r4v_6Uibcfee"
      }
    },
    {
      "cell_type": "code",
      "source": [
        "# We now assemble all the previous steps into one function which does the attention mechanism\n",
        "def attention_mechanism(Q, K, V, mask=None):\n",
        "    d_k = Q.size()[-1]  # Extract embedding dimension\n",
        "    attn_logits = Q @ K.transpose(-2, -1)\n",
        "    attn_logits = attn_logits / torch.sqrt(torch.tensor(d_k))\n",
        "    #the mask here basically sets the attention logits close to - infinity so that for those attention weigthing of 0 result.\n",
        "    # This is because we sometimes don't want that our model can pay attention to all values\n",
        "    if mask is not None:\n",
        "        attn_logits = attn_logits.masked_fill(mask == 0, -9e15)\n",
        "    attention = torch.nn.functional.softmax(attn_logits, dim=-1)\n",
        "    outputs = torch.matmul(attention, V)\n",
        "    return outputs, attention"
      ],
      "metadata": {
        "id": "gz2SziYQZLZS"
      },
      "execution_count": null,
      "outputs": []
    },
    {
      "cell_type": "markdown",
      "source": [
        "Explanation of function for scaling and dot product:\n",
        "\n",
        "This function implements the scaled dot-product attention mechanism, which is a core part of the self-attention mechanism in Transformer models\n",
        "\n",
        "Mask:Used to control which elements should not receive attention (e.g., padding or causal masking in decoding).\n",
        "\n",
        "If a mask is provided, it is used to ignore certain positions in the attention computation.\n",
        "masked_fill(mask == 0, -9e15) → This replaces the masked positions with a very large negative number (effectively -∞).\n",
        "When softmax is applied, these positions become zero probabilities, ensuring no attention is given to them."
      ],
      "metadata": {
        "id": "lq74qy2i5Kfu"
      }
    },
    {
      "cell_type": "markdown",
      "source": [
        "### Multi-Head attention\n",
        "\n",
        "So what the heck is this now. Actually it is quite simple. It is mainly the attention mechanism copy&paste. The idea is the normally you have to focus on multiple words during translation (this can be generalized to any other task but the Transformer was invented for translation). When you one attention block you have to merge a lot of information together. So the solution is to use more than attention block which work completely seperately from each other."
      ],
      "metadata": {
        "id": "xlSxlBbeARv4"
      }
    },
    {
      "cell_type": "code",
      "source": [
        "## for the implentation it is not actually to copy the attention mechanism x times for x heads. It more that you have a\n",
        "## certain embedding_size e.g. 256 and if you have 8 heads than each head gets a 1/8 share of the embedding in this 256/8 = 32. If we would\n",
        "## have to heads it would be 256/2 = 128.\n",
        "\n",
        "#Let's implement Multi-Head Attention\n",
        "\n",
        "class MultiheadAttention(nn.Module):\n",
        "\n",
        "    def __init__(self, input_dim, embed_dim, num_heads):\n",
        "        super().__init__()\n",
        "        assert embed_dim % num_heads == 0, \"Embedding dimension must be 0 modulo number of heads.\"\n",
        "\n",
        "        self.embed_dim = embed_dim\n",
        "        self.num_heads = num_heads\n",
        "        self.head_dim = embed_dim // num_heads\n",
        "\n",
        "        # All heads are stacked into a single matrix for efficiency i.e. all heads with their query, key and value values are concatenated\n",
        "        self.qkv_proj = nn.Linear(input_dim, 3*embed_dim) # 3*embed_dim since we have to generate Q, K and V vectors which all have the size of embed_dim hence 3*embed_dim\n",
        "        self.output_proj = nn.Linear(embed_dim, embed_dim)\n",
        "\n",
        "\n",
        "\n",
        "    def forward(self, x, mask=None, return_attention=False):\n",
        "        batch_size, seq_length, _ = x.size() #[Batch, SeqLen, InputDim] e.g. [32, 8, 256]\n",
        "\n",
        "        qkv = self.qkv_proj(x) # [Batch, SeqLen, 3*Embed_dim]\n",
        "\n",
        "        # Separate Q, K, V from linear output\n",
        "        qkv = qkv.reshape(batch_size, seq_length, self.num_heads, 3*self.head_dim)# [Batch, SeqLen, Head, 3*HeadDim]\n",
        "        qkv = qkv.permute(0, 2, 1, 3) # [Batch, Head, SeqLen, 3*HeadDim]\n",
        "        q, k, v = qkv.chunk(3, dim=-1) # each [Batch, Head, SeqLen, 1*HeadDim]\n",
        "\n",
        "        # Determine value outputs\n",
        "        values, attention = attention_mechanism(q, k, v, mask=mask) # the attention_mechanism we implemented above  [Batch, Head, SeqLen, 1*HeadDim]\n",
        "        values = values.permute(0, 2, 1, 3) # [Batch, SeqLen, Head, 1*HeadDim]\n",
        "        values = values.reshape(batch_size, seq_length, self.embed_dim)  # [Batch, SeqLen, EmbedDim] -- EmbedDim = Head*HeadDim\n",
        "        output = self.output_proj(values)  # [Batch, SeqLen, EmbedDim]\n",
        "\n",
        "        if return_attention:\n",
        "            return output, attention\n",
        "        else:\n",
        "            return output"
      ],
      "metadata": {
        "id": "DMu_6YUwWF0_"
      },
      "execution_count": null,
      "outputs": []
    },
    {
      "cell_type": "markdown",
      "source": [
        "Okay the code above is mainly code massaging but if you really want to understand every step than go through the code"
      ],
      "metadata": {
        "id": "lNKUqNQsG4_C"
      }
    },
    {
      "cell_type": "markdown",
      "source": [
        "Code Explanation\n",
        "\n",
        "\n",
        "Multi-Head Attention allows the model to attend to different parts of the input simultaneously by splitting the embedding space into multiple heads. Instead of running multiple separate attention mechanisms, it splits the embedding into smaller parts for each head.\n",
        "\n",
        "In the context of transformers and multi-head attention, sequence length refers to the number of tokens (words, subwords, or characters) in an input sequence"
      ],
      "metadata": {
        "id": "R66RGYMN2Wps"
      }
    },
    {
      "cell_type": "markdown",
      "source": [
        "### Permutation equivariance\n",
        "\n",
        "Permutation equivariance means that you can switch the inputs and still get the same output. This is a behaviour which definitively is not suitable when working with sentences because the word order matters.\n",
        "The multi-head attention is actually looking at the input not as a sequence, but as a set of elements. This property makes the multi-head attention block and the Transformer architecture so powerful and widely applicable! But what if the order of the input is actually important as in sentences? The answer is to additionally encode the position in the input features, which we will take a closer look at later (topic Positional encodings below)."
      ],
      "metadata": {
        "id": "qMeH_qV-HceL"
      }
    },
    {
      "cell_type": "markdown",
      "source": [
        "### Transformer Encoder"
      ],
      "metadata": {
        "id": "CkNuJv8RIEXd"
      }
    },
    {
      "cell_type": "markdown",
      "source": [
        "Now that we now how the multi-head attention block works we will integrate it into the Transformer architecture. Remember, originally, the Transformer model was developed for machine translation. Hence, it got an encoder-decoder structure where the encoder takes as input the whole sentence in the original language and generates an attention-based representation. More specifically each word(token) gets an attention-based representation. On the other hand, the decoder attends over this input sentence encoding and generates the translated sentence word by word. The word by word generation is also calle more technically autoregressive. While this structure is extremely useful for Sequence-to-Sequence tasks with the necessity of autoregressive decoding, we will focus here on the encoder part. Many advances in NLP have been made using pure encoder-based Transformer models (if interested, models include the BERT-family, the Vision Transformer, and more), and in our tutorial, we will also focus only the encoder part. If you have understood the encoder architecture, the decoder is a very small step to implement as well."
      ],
      "metadata": {
        "id": "uSlFEdmHINCr"
      }
    },
    {
      "cell_type": "markdown",
      "source": [
        "<img src= \"https://drive.google.com/uc?id=1zEGMTmMqzwn25WXJHkf-jJ_C4A89fz6T\" height= \"500\">"
      ],
      "metadata": {
        "id": "i8q0GH5nj1Hc"
      }
    },
    {
      "cell_type": "markdown",
      "source": [
        "So we will implement the left part of this diagram which is the encoder part. Until now we have just implemented the orange Multi-Head Attention block. But basically these blocks are so easy to implement that we will do it directly in the Encoder class"
      ],
      "metadata": {
        "id": "geFgmXgRj3Vo"
      }
    },
    {
      "cell_type": "code",
      "source": [
        "class EncoderBlock(nn.Module):\n",
        "\n",
        "    def __init__(self, input_dim, num_heads, dim_feedforward, dropout=0.0):\n",
        "        \"\"\"\n",
        "        Inputs:\n",
        "            input_dim - Input dimension\n",
        "            num_heads - Number of heads to use in the attention block\n",
        "            dim_feedforward - Dimensionality of the hidden layer in the MLP\n",
        "            dropout - Dropout probability to use in the dropout layers\n",
        "        \"\"\"\n",
        "        super().__init__()\n",
        "\n",
        "        # Attention layer (orange block)\n",
        "        self.self_attn = MultiheadAttention(input_dim, input_dim, num_heads)\n",
        "\n",
        "        # Two-layer MLP (blue block)\n",
        "        self.feed_forward = nn.Sequential(\n",
        "            nn.Linear(input_dim, dim_feedforward),\n",
        "            nn.Dropout(dropout),\n",
        "            nn.ReLU(inplace=True),\n",
        "            nn.Linear(dim_feedforward, input_dim)\n",
        "        )\n",
        "\n",
        "        # Layers to apply in between the main layers\n",
        "        self.norm1 = nn.LayerNorm(input_dim)\n",
        "        self.norm2 = nn.LayerNorm(input_dim)\n",
        "        self.dropout = nn.Dropout(dropout)\n",
        "\n",
        "    def forward(self, x, mask=None):\n",
        "        # Attention part\n",
        "        attn_out = self.self_attn(x, mask=mask) # compute the attention\n",
        "        x = x + self.dropout(attn_out) # code skip layer connection with addition\n",
        "        x = self.norm1(x) #apply layer norm\n",
        "\n",
        "        # MLP part\n",
        "        x_feed_forward = self.feed_forward(x) # compute feed forward network\n",
        "        x = x + self.dropout(x_feed_forward) # code skip layer connection with addition\n",
        "        x = self.norm2(x) #apply layer norm\n",
        "\n",
        "        return x"
      ],
      "metadata": {
        "id": "LBjRcjQuj1rJ"
      },
      "execution_count": null,
      "outputs": []
    },
    {
      "cell_type": "markdown",
      "source": [
        "Now we can implement the whole TransformerEncoder. Additionally we can give out the attention weights per layer"
      ],
      "metadata": {
        "id": "kFzybeoUl623"
      }
    },
    {
      "cell_type": "code",
      "source": [
        "class TransformerEncoder(nn.Module):\n",
        "\n",
        "    def __init__(self, num_layers, **block_args):\n",
        "        super().__init__()\n",
        "        self.layers = nn.ModuleList([EncoderBlock(**block_args) for _ in range(num_layers)])\n",
        "\n",
        "    def forward(self, x, mask=None):\n",
        "        for l in self.layers:\n",
        "            x = l(x, mask=mask)\n",
        "        return x\n",
        "\n",
        "    def get_attention_maps(self, x, mask=None):\n",
        "        attention_maps = []\n",
        "        for l in self.layers:\n",
        "            _, attn_map = l.self_attn(x, mask=mask, return_attention=True)\n",
        "            attention_maps.append(attn_map)\n",
        "            x = l(x)\n",
        "        return attention_maps"
      ],
      "metadata": {
        "id": "0wcUU9YvFYVi"
      },
      "execution_count": null,
      "outputs": []
    },
    {
      "cell_type": "markdown",
      "source": [
        "### Positional Encoding"
      ],
      "metadata": {
        "id": "1grMhv7fmLpU"
      }
    },
    {
      "cell_type": "markdown",
      "source": [
        "We have discussed before that the Multi-Head Attention block is permutation-equivariant, and cannot distinguish whether an input comes before another one in the sequence or not. In tasks like language understanding, however, the position is important for interpreting the input words. We need to add the position information somehow. One surprisingly easy way which works is just to add a positional vector to each word embedding vector. We could learn a embedding for every possible position, but this would not generalize to a dynamical input sequence length. Hence, the better option is to use feature patterns that the network can identify from the features and potentially generalize to larger sequences. The specific pattern chosen by Vaswani et al. are sine and cosine functions of different frequencies, as follows\n",
        "\n",
        "\n",
        "$$\n",
        "PE_{pos,i} = \\begin{cases}\n",
        "\\sin (\\frac{pos}{10000^{i/d}}), & \\text{if i mod 2 = 0 }  \\\\\n",
        "\\cos (\\frac{pos}{10000^{(i-1)/d}}), & \\text{else }\n",
        "\\end{cases}\n",
        "$$"
      ],
      "metadata": {
        "id": "XA3zXWepclBr"
      }
    },
    {
      "cell_type": "code",
      "source": [
        "class PositionalEncoding(nn.Module):\n",
        "\n",
        "    def __init__(self, d_model, max_len=5000):\n",
        "        \"\"\"\n",
        "        Inputs\n",
        "            d_model - Hidden dimensionality of the input.\n",
        "            max_len - Maximum length of a sequence to expect.\n",
        "        \"\"\"\n",
        "        super().__init__()\n",
        "\n",
        "        # Create matrix of [SeqLen, HiddenDim] representing the positional encoding for max_len inputs\n",
        "        pe = torch.zeros(max_len, d_model)\n",
        "        position = torch.arange(0, max_len, dtype=torch.float).unsqueeze(1)\n",
        "        div_term = torch.exp(torch.arange(0, d_model, 2).float() * (-math.log(10000.0) / d_model))\n",
        "        pe[:, 0::2] = torch.sin(position * div_term)\n",
        "        pe[:, 1::2] = torch.cos(position * div_term)\n",
        "        pe = pe.unsqueeze(0)\n",
        "\n",
        "        # register_buffer => Tensor which is not a parameter, but should be part of the modules state.\n",
        "        # Used for tensors that need to be on the same device as the module.\n",
        "        # persistent=False tells PyTorch to not add the buffer to the state dict (e.g. when we save the model)\n",
        "        self.register_buffer('pe', pe, persistent=False)\n",
        "\n",
        "    def forward(self, x):\n",
        "        x = x + self.pe[:, :x.size(1)]\n",
        "        return x"
      ],
      "metadata": {
        "id": "mwXps4y6iIXI"
      },
      "execution_count": null,
      "outputs": []
    },
    {
      "cell_type": "markdown",
      "source": [
        "Let's plot them"
      ],
      "metadata": {
        "id": "won-lFa2n8kk"
      }
    },
    {
      "cell_type": "code",
      "source": [
        "import math\n",
        "import matplotlib.pyplot as plt\n",
        "encod_block = PositionalEncoding(d_model=48, max_len=96)\n",
        "pe = encod_block.pe.squeeze().T.cpu().numpy()\n",
        "\n",
        "fig, ax = plt.subplots(nrows=1, ncols=1, figsize=(8,3))\n",
        "pos = ax.imshow(pe, cmap=\"RdGy\", extent=(1,pe.shape[1]+1,pe.shape[0]+1,1))\n",
        "fig.colorbar(pos, ax=ax)\n",
        "ax.set_xlabel(\"Position in sequence\")\n",
        "ax.set_ylabel(\"Hidden dimension\")\n",
        "ax.set_title(\"Positional encoding over hidden dimensions\")\n",
        "ax.set_xticks([1]+[i*10 for i in range(1,1+pe.shape[1]//10)])\n",
        "ax.set_yticks([1]+[i*10 for i in range(1,1+pe.shape[0]//10)])\n",
        "plt.show()"
      ],
      "metadata": {
        "colab": {
          "base_uri": "https://localhost:8080/",
          "height": 333
        },
        "id": "tBsmF_CgjgZ9",
        "outputId": "c58de0b2-e3e7-4ec2-8b7a-4b1ad8feea6a"
      },
      "execution_count": null,
      "outputs": [
        {
          "output_type": "display_data",
          "data": {
            "text/plain": [
              "<Figure size 800x300 with 2 Axes>"
            ],
            "image/png": "[encoded data removed]"
          },
          "metadata": {}
        }
      ]
    },
    {
      "cell_type": "markdown",
      "source": [
        "This is the matrix of positional encodings. For example the column vector at 70 is added to the embedding vector of the 70th token."
      ],
      "metadata": {
        "id": "5dAucOEon-nX"
      }
    },
    {
      "cell_type": "code",
      "source": [
        "read_and_understood_everything_above = True      # (Just type True to get the 10 points)"
      ],
      "metadata": {
        "id": "7YGH8Wwv75pR"
      },
      "execution_count": null,
      "outputs": []
    }
  ]
}